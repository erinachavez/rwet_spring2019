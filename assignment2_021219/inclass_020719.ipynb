{
 "cells": [
  {
   "cell_type": "code",
   "execution_count": 22,
   "metadata": {},
   "outputs": [
    {
     "name": "stdout",
     "output_type": "stream",
     "text": [
      "Computer: Hello!\n",
      "You: Hi!\n",
      "Computer: How are you?\n",
      "You: I'm fine, how are you?\n"
     ]
    }
   ],
   "source": [
    "print(\"Computer: Hello!\")\n",
    "response = input(\"You: \")\n",
    "print(\"Computer: How are you?\")\n",
    "response = input(\"You: \")"
   ]
  },
  {
   "cell_type": "code",
   "execution_count": 34,
   "metadata": {},
   "outputs": [
    {
     "name": "stdout",
     "output_type": "stream",
     "text": [
      "a\n"
     ]
    }
   ],
   "source": [
    "hiragana = {\n",
    "    \"あ\":\"a\",\n",
    "    \"い\":\"i\",\n",
    "    \"う\":\"u\",\n",
    "    \"え\":\"e\",\n",
    "    \"お\":\"o\",\n",
    "}\n",
    "\n",
    "print(hiragana[\"あ\"])"
   ]
  },
  {
   "cell_type": "code",
   "execution_count": 41,
   "metadata": {},
   "outputs": [],
   "source": [
    "katakana = {\n",
    "    \"a\":\"ア\",\n",
    "    \"i\":\"イ\",\n",
    "    \"u\":\"ウ\",\n",
    "    \"e\":\"エ\",\n",
    "    \"o\":\"オ\",\n",
    "    \n",
    "    \"ka\":\"カ\",\n",
    "    \"ki\":\"キ\",\n",
    "    \"ku\":\"ク\",\n",
    "    \"ke\":\"ケ\",\n",
    "    \"ko\":\"コ\",\n",
    "    \n",
    "    \"sa\":\"サ\",\n",
    "    \"shi\":\"シ\",\n",
    "    \"su\":\"ス\",\n",
    "    \"se\":\"セ\",\n",
    "    \"so\":\"ソ\",\n",
    "    \n",
    "    \"ta\":\"タ\",\n",
    "    \"chi\":\"チ\",\n",
    "    \"tsu\":\"ツ\",\n",
    "    \"te\":\"テ\",\n",
    "    \"to\":\"ト\",\n",
    "    \n",
    "    \"na\":\"ナ\",\n",
    "    \"ni\":\"ニ\",\n",
    "    \"nu\":\"ヌ\",\n",
    "    \"ne\":\"ネ\",\n",
    "    \"no\":\"ノ\",\n",
    "    \n",
    "    \"ha\":\"ハ\",\n",
    "    \"hi\":\"ヒ\",\n",
    "    \"hu\":\"フ\",\n",
    "    \"he\":\"ヘ\",\n",
    "    \"ho\":\"ホ\",\n",
    "    \n",
    "    \"ma\":\"マ\",\n",
    "    \"mi\":\"ミ\",\n",
    "    \"mu\":\"ム\",\n",
    "    \"me\":\"メ\",\n",
    "    \"mo\":\"モ\",\n",
    "    \n",
    "    \"ya\":\"ヤ\",\n",
    "    \"yu\":\"ユ\",\n",
    "    \"yo\":\"ヨ\",\n",
    "    \n",
    "    \"ra\":\"ラ\",\n",
    "    \"ri\":\"リ\",\n",
    "    \"ru\":\"ル\",\n",
    "    \"re\":\"レ\",\n",
    "    \"ro\":\"ロ\",\n",
    "    \n",
    "    \"wa\":\"ワ\",\n",
    "    \"wo\":\"ヲ\",\n",
    "    \n",
    "    \"n\":\"ン\",\n",
    "}"
   ]
  },
  {
   "cell_type": "code",
   "execution_count": 57,
   "metadata": {},
   "outputs": [
    {
     "name": "stdout",
     "output_type": "stream",
     "text": [
      "Hi! What is your name?\n",
      "Your Name: Serina\n",
      "セリナ\n"
     ]
    }
   ],
   "source": [
    "print(\"Hi! What is your name?\")\n",
    "name = input(\"Your Name: \")\n",
    "new_name = \"\"\n",
    "\n",
    "for x in range(0,len(name),2):\n",
    "    pair = name[x]+name[x+1]\n",
    "    new_name += katakana[pair.lower()]\n",
    "    \n",
    "print(new_name)"
   ]
  }
 ],
 "metadata": {
  "kernelspec": {
   "display_name": "Python 3",
   "language": "python",
   "name": "python3"
  },
  "language_info": {
   "codemirror_mode": {
    "name": "ipython",
    "version": 3
   },
   "file_extension": ".py",
   "mimetype": "text/x-python",
   "name": "python",
   "nbconvert_exporter": "python",
   "pygments_lexer": "ipython3",
   "version": "3.6.7"
  }
 },
 "nbformat": 4,
 "nbformat_minor": 2
}
