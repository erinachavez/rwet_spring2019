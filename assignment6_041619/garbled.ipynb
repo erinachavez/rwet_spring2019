{
 "cells": [
  {
   "cell_type": "markdown",
   "metadata": {},
   "source": [
    "# Garbled\n",
    "\n",
    "Goal: To create a program that can read in a text input, and return nonsense sentences that sound similar to the fed text"
   ]
  },
  {
   "cell_type": "markdown",
   "metadata": {},
   "source": [
    "## pronouncingpy + spaCy\n",
    "\n",
    "Using pronouncingpy and spaCy to get a list of all the phonemes in a text"
   ]
  },
  {
   "cell_type": "code",
   "execution_count": 1,
   "metadata": {},
   "outputs": [],
   "source": [
    "import pronouncing as pr\n",
    "import spacy"
   ]
  },
  {
   "cell_type": "code",
   "execution_count": 2,
   "metadata": {},
   "outputs": [],
   "source": [
    "nlp = spacy.load(\"en_core_web_md\")"
   ]
  },
  {
   "cell_type": "code",
   "execution_count": 48,
   "metadata": {},
   "outputs": [],
   "source": [
    "def get_all_phones(file_path):\n",
    "    file = open(file_path).readlines()\n",
    "    all_phones = []\n",
    "    \n",
    "    for line in file:\n",
    "        line = nlp(line)\n",
    "        \n",
    "        for word in line:\n",
    "            phones = pr.phones_for_word(word.text.lower())\n",
    "\n",
    "            if len(phones) > 0:\n",
    "                all_phones.append(phones[0])\n",
    "        \n",
    "        all_phones.append(\"/n\")\n",
    "        \n",
    "    return all_phones"
   ]
  },
  {
   "cell_type": "markdown",
   "metadata": {},
   "source": [
    "## Markovify Phonemes\n",
    "\n",
    "Using markovify to predict phonemes in a text"
   ]
  },
  {
   "cell_type": "code",
   "execution_count": 27,
   "metadata": {},
   "outputs": [],
   "source": [
    "import markovify"
   ]
  },
  {
   "cell_type": "code",
   "execution_count": 66,
   "metadata": {},
   "outputs": [],
   "source": [
    "def markovify_phones(phones_text):\n",
    "    markovified_text = markovify.Text(phones_text, 2)\n",
    "    sentence = markovified_text.make_short_sentence(75, tries=100)\n",
    "    return sentence"
   ]
  },
  {
   "cell_type": "markdown",
   "metadata": {},
   "source": [
    "`create_words_from_phones` Tasks:\n",
    "\n",
    "1. Get first phone in list\n",
    "2. Search for matching word(s)\n",
    "3. If not found, append next phone to end\n",
    "4. Repeat 2-3 until word(s) found\n",
    "5. If word not found, take original phone and pull a list of words that contains that phone sound\n",
    "6. Once words documented, move to next phone that hasn't been used yet, repeat 2-3"
   ]
  },
  {
   "cell_type": "code",
   "execution_count": 72,
   "metadata": {},
   "outputs": [],
   "source": [
    "def create_words_from_phones(sen):\n",
    "    sen_phones = sen.split()\n",
    "    search = [sen_phones[0]]\n",
    "    LENGTH = len(sen_phones) - 1\n",
    "    \n",
    "    cur = 0\n",
    "    last = 0\n",
    "    \n",
    "    all_results = []\n",
    "\n",
    "    while cur <= LENGTH:\n",
    "        result_found = False\n",
    "\n",
    "        while result_found == False:\n",
    "            search_str = \"\"\n",
    "\n",
    "            for phone in search:\n",
    "                search_str += phone + \" \"\n",
    "\n",
    "            results = pr.search(\"^\" + search_str.rstrip() + \"$\")\n",
    "\n",
    "            cur += 1\n",
    "\n",
    "            if len(results) == 0:\n",
    "                if cur <= LENGTH:\n",
    "                    search.append(sen_phones[cur])\n",
    "                    \n",
    "                else:\n",
    "                    word_with_phone = pr.search(sen_phones[last])\n",
    "                    all_results.append(word_with_phone)\n",
    "\n",
    "                    last += 1\n",
    "                    cur = last\n",
    "\n",
    "                    search = [sen_phones[cur]]\n",
    "                    \n",
    "            else:\n",
    "                all_results.append(results)\n",
    "                result_found = True\n",
    "                \n",
    "                if cur <= LENGTH:\n",
    "                    last = cur\n",
    "                    search = [sen_phones[last]]\n",
    "\n",
    "\n",
    "    return all_results"
   ]
  },
  {
   "cell_type": "markdown",
   "metadata": {},
   "source": [
    "### Put it All Together"
   ]
  },
  {
   "cell_type": "code",
   "execution_count": 73,
   "metadata": {},
   "outputs": [],
   "source": [
    "import random"
   ]
  },
  {
   "cell_type": "code",
   "execution_count": 74,
   "metadata": {},
   "outputs": [],
   "source": [
    "text_phones = get_all_phones(\"txt_examples/genesis.txt\")\n",
    "text_phones = \" \".join(text_phones)"
   ]
  },
  {
   "cell_type": "code",
   "execution_count": 79,
   "metadata": {
    "scrolled": false
   },
   "outputs": [
    {
     "name": "stdout",
     "output_type": "stream",
     "text": [
      "IH0 N DH AH0 ER1 TH  S OW1  AH0 N T L IY0 DH AH0 TH ER1 D D EY1 \n",
      "\n",
      "in the ur ths ow a kinne stiller's exploratory stoically the third dey \n"
     ]
    }
   ],
   "source": [
    "phone_sentence = markovify_phones(text_phones)\n",
    "phone_sentence = phone_sentence.replace(\"/n\",\"\")\n",
    "results = create_words_from_phones(phone_sentence)\n",
    "\n",
    "print(phone_sentence)\n",
    "print(\"\")\n",
    "\n",
    "sentence = \"\"\n",
    "for result in results:\n",
    "    sentence += random.choice(result) + \" \"\n",
    "    \n",
    "print(sentence)"
   ]
  }
 ],
 "metadata": {
  "kernelspec": {
   "display_name": "Python 3",
   "language": "python",
   "name": "python3"
  },
  "language_info": {
   "codemirror_mode": {
    "name": "ipython",
    "version": 3
   },
   "file_extension": ".py",
   "mimetype": "text/x-python",
   "name": "python",
   "nbconvert_exporter": "python",
   "pygments_lexer": "ipython3",
   "version": "3.6.7"
  }
 },
 "nbformat": 4,
 "nbformat_minor": 2
}
