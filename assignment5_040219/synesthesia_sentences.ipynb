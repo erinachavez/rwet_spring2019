{
 "cells": [
  {
   "cell_type": "markdown",
   "metadata": {},
   "source": [
    "# Synethesia Sentences"
   ]
  },
  {
   "cell_type": "markdown",
   "metadata": {},
   "source": [
    "## TwitterScraper\n",
    "\n",
    "Using TwitterScraper command line functions, a JSON file was generated with tweets. getTweetsText will convert this JSON file to a text document containing just the text from the tweets"
   ]
  },
  {
   "cell_type": "code",
   "execution_count": 177,
   "metadata": {},
   "outputs": [],
   "source": [
    "import json"
   ]
  },
  {
   "cell_type": "code",
   "execution_count": 178,
   "metadata": {},
   "outputs": [],
   "source": [
    "def getTweetsText(file_name, file_path):\n",
    "    tweets = json.load(open(file_path))\n",
    "    file = open(file_name + \"_tweets_text.txt\",\"w\")\n",
    "\n",
    "    for tweet in tweets:\n",
    "        file.write(tweet[\"text\"] + \"\\n\")\n",
    "\n",
    "    file.close()\n",
    "    \n",
    "    return file_name + \"_tweets_text.txt\""
   ]
  },
  {
   "cell_type": "markdown",
   "metadata": {},
   "source": [
    "## Markovify\n",
    "\n",
    "Using markovify, getSentence is a simple function that will read in a txt file, and return a short sentence."
   ]
  },
  {
   "cell_type": "code",
   "execution_count": 179,
   "metadata": {},
   "outputs": [],
   "source": [
    "import markovify"
   ]
  },
  {
   "cell_type": "code",
   "execution_count": 180,
   "metadata": {},
   "outputs": [],
   "source": [
    "def getSentence(text_path, n_gram):\n",
    "    markovified_text = markovify.Text(open(text_path).readlines(), state_size=n_gram)\n",
    "    return markovified_text.make_short_sentence(140)"
   ]
  },
  {
   "cell_type": "markdown",
   "metadata": {},
   "source": [
    "## TextBlob\n",
    "\n",
    "Using TextBlob, getSentiment is a simple function that will rate the polarity (-1 to 1) and subjectivity (0 to 1) of a given sentence."
   ]
  },
  {
   "cell_type": "code",
   "execution_count": 181,
   "metadata": {},
   "outputs": [],
   "source": [
    "from textblob import TextBlob"
   ]
  },
  {
   "cell_type": "code",
   "execution_count": 182,
   "metadata": {},
   "outputs": [],
   "source": [
    "def getSentiment(sentence):\n",
    "    return TextBlob(sentence).sentiment"
   ]
  },
  {
   "cell_type": "markdown",
   "metadata": {},
   "source": [
    "## Translate Values\n",
    "\n",
    "A function to map a value within one range (ex. 0.3 within -1 to 1) to another range (i.e. 1 to 10)\n",
    "\n",
    "Credit/Source: https://stackoverflow.com/questions/1969240/mapping-a-range-of-values-to-another"
   ]
  },
  {
   "cell_type": "code",
   "execution_count": 183,
   "metadata": {},
   "outputs": [],
   "source": [
    "def translate(value, leftMin, leftMax, rightMin, rightMax):\n",
    "    leftSpan = leftMax - leftMin\n",
    "    rightSpan = rightMax - rightMin\n",
    "\n",
    "    valueScaled = float(value - leftMin) / float(leftSpan)\n",
    "    \n",
    "    return rightMin + (valueScaled * rightSpan)"
   ]
  },
  {
   "cell_type": "markdown",
   "metadata": {},
   "source": [
    "## matplotlib\n",
    "\n",
    "A library for creating graphics in python"
   ]
  },
  {
   "cell_type": "code",
   "execution_count": 184,
   "metadata": {},
   "outputs": [],
   "source": [
    "from matplotlib import pyplot as plt\n",
    "from matplotlib.path import Path\n",
    "import matplotlib.patches as patches\n",
    "import numpy as np"
   ]
  },
  {
   "cell_type": "markdown",
   "metadata": {},
   "source": [
    "### Color Maps\n",
    "\n",
    "From https://matplotlib.org/tutorials/colors/colormaps.html, a gradient list of colors I put together from sad to happy tones.\n",
    "\n",
    "getCmap will choose a tone based on the polarity of a text"
   ]
  },
  {
   "cell_type": "code",
   "execution_count": 185,
   "metadata": {},
   "outputs": [],
   "source": [
    "GRADIENT = [plt.cm.Greys,plt.cm.Blues,plt.cm.bone,plt.cm.twilight,plt.cm.BuPu,plt.cm.YlGn,plt.cm.summer,plt.cm.autumn,plt.cm.spring,plt.cm.Wistia]\n",
    "\n",
    "def getCmap(polarity):\n",
    "    index = translate(polarity,-1,1,0,len(GRADIENT))\n",
    "    return GRADIENT[int(index)]"
   ]
  },
  {
   "cell_type": "markdown",
   "metadata": {},
   "source": [
    "### Shape and Color\n",
    "\n",
    "synthesize is a function I compiled and adjusted from two main Stack Overflow threads. Based on the polarity and subjectivity of a sentence, it will construct a random shape to represent the sentence. There are 3 main parameters that effect a shapes final appearance:\n",
    "- The polarity and subjectivity together define how many points to include within the shape. The more positive and subjective, the more points. The more negative and objective, the less points\n",
    "- Based on the subjectivity of a sentence, the shape will either be comprised of straight (more objective) or curved (more subjective) lines\n",
    "- The color of the shape is based on the polarity of the sentence. See getCmap.\n",
    "\n",
    "Credits/Sources:\n",
    "- [Create random shape/contour using matplotlib](https://stackoverflow.com/a/50732357/8395387)\n",
    "- [Mathplotlib draw triangle with gradient fill](https://stackoverflow.com/a/42064723/8395387)"
   ]
  },
  {
   "cell_type": "code",
   "execution_count": 187,
   "metadata": {},
   "outputs": [],
   "source": [
    "def synthesize(analysis):\n",
    "    polarity = translate(analysis.polarity,-1,1,1,5)\n",
    "    subjectivity = translate(analysis.subjectivity,0,1,1,5)\n",
    "    n = int(polarity*subjectivity/2)\n",
    "    N = n*3+1\n",
    "\n",
    "    angles = np.linspace(0,2*np.pi,N)\n",
    "\n",
    "    if round(analysis.subjectivity) == 0:\n",
    "        codes = np.full(N,Path.LINETO)\n",
    "    else:\n",
    "        codes = np.full(N,Path.CURVE4)\n",
    "\n",
    "    codes[0] = Path.MOVETO\n",
    "\n",
    "    verts = np.stack((np.cos(angles),np.sin(angles))).T*(2*np.random.random(N))[:,None]\n",
    "    verts[-1,:] = verts[0,:]\n",
    "    path = Path(verts,codes)\n",
    "\n",
    "    xlim = np.min(verts)*1.1\n",
    "    ylim = np.max(verts)*1.1\n",
    "\n",
    "    fig = plt.figure()\n",
    "    ax = fig.add_subplot(111, aspect='equal')\n",
    "    patch = patches.PathPatch(path, facecolor='none', lw=0)\n",
    "    ax.add_patch(patch)\n",
    "\n",
    "    Z, Z2 = np.meshgrid(np.linspace(0,2*np.pi,N),np.linspace(0,2*np.pi,N))\n",
    "    im = plt.imshow(\n",
    "        Z-Z2,\n",
    "        interpolation='bilinear',\n",
    "        cmap=getCmap(analysis.polarity),\n",
    "        origin='lower',\n",
    "        extent=[xlim,ylim,xlim,ylim],\n",
    "        clip_path=patch,\n",
    "        clip_on=True\n",
    "    )\n",
    "    im.set_clip_path(patch)\n",
    "    ax.set_xlim(xlim, ylim)\n",
    "    ax.set_ylim(xlim, ylim)\n",
    "\n",
    "    plt.axis('off')\n",
    "    plt.show()"
   ]
  },
  {
   "cell_type": "markdown",
   "metadata": {},
   "source": [
    "### Putting it Together\n",
    "\n",
    "1. Call getTweetsText, pass JSON file of tweets\n",
    "2. Call getSentence, pass tweets txt file and n-gram length\n",
    "3. Call getSentiment, pass sentence returned from getSentence\n",
    "4. Print sentence\n",
    "5. Call synthesize; this prints the sentence shape"
   ]
  },
  {
   "cell_type": "code",
   "execution_count": 170,
   "metadata": {},
   "outputs": [
    {
     "name": "stdout",
     "output_type": "stream",
     "text": [
      "*hands Rey an xbox controller* it's cool if you have real friends like darth vader had\n"
     ]
    },
    {
     "data": {
      "image/png": "[encoded data removed]",
      "text/plain": [
       "<Figure size 432x288 with 1 Axes>"
      ]
     },
     "metadata": {
      "needs_background": "light"
     },
     "output_type": "display_data"
    }
   ],
   "source": [
    "txt_file = getTweetsText(\"kylor3n\",\"kylor3n_tweets.json\")\n",
    "sentence = getSentence(txt_file,2)\n",
    "sentiment = getSentiment(sentence)\n",
    "\n",
    "print(sentence)\n",
    "synthesize(sentiment)"
   ]
  }
 ],
 "metadata": {
  "kernelspec": {
   "display_name": "Python 3",
   "language": "python",
   "name": "python3"
  },
  "language_info": {
   "codemirror_mode": {
    "name": "ipython",
    "version": 3
   },
   "file_extension": ".py",
   "mimetype": "text/x-python",
   "name": "python",
   "nbconvert_exporter": "python",
   "pygments_lexer": "ipython3",
   "version": "3.6.7"
  }
 },
 "nbformat": 4,
 "nbformat_minor": 2
}
