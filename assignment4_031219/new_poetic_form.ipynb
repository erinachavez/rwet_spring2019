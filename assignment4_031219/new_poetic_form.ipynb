{
 "cells": [
  {
   "cell_type": "code",
   "execution_count": 1,
   "metadata": {},
   "outputs": [],
   "source": [
    "import json\n",
    "import random\n",
    "import tracery\n",
    "from tracery.modifiers import base_english"
   ]
  },
  {
   "cell_type": "markdown",
   "metadata": {},
   "source": [
    "### Load Words and Clues"
   ]
  },
  {
   "cell_type": "code",
   "execution_count": 2,
   "metadata": {},
   "outputs": [],
   "source": [
    "four = json.load(open(\"../../corpora/data/words/word_clues/clues_four.json\"))\n",
    "five = json.load(open(\"../../corpora/data/words/word_clues/clues_five.json\"))\n",
    "six = json.load(open(\"../../corpora/data/words/word_clues/clues_six.json\"))\n",
    "\n",
    "source = dict(four[\"data\"], **five[\"data\"], **six[\"data\"])"
   ]
  },
  {
   "cell_type": "markdown",
   "metadata": {},
   "source": [
    "### Load Compound Words"
   ]
  },
  {
   "cell_type": "code",
   "execution_count": 3,
   "metadata": {},
   "outputs": [],
   "source": [
    "compounds = json.load(open(\"../../corpora/data/words/compounds.json\"))"
   ]
  },
  {
   "cell_type": "markdown",
   "metadata": {},
   "source": [
    "When fed a compound word (e.x. foothill), this function will take the second inner word (e.x. hill) and find another that has a matching first (e.x. hilltop)."
   ]
  },
  {
   "cell_type": "code",
   "execution_count": 4,
   "metadata": {},
   "outputs": [],
   "source": [
    "def findMatch(i, this_thread):\n",
    "    for j in compounds[\"compounds\"]:\n",
    "        if i[\"secondWord\"] == j[\"firstWord\"]:\n",
    "            if len(this_thread) == 0 or i != this_thread[-1]:\n",
    "                this_thread.append(i)\n",
    "            this_thread.append(j)\n",
    "            i = j\n",
    "            this_thread = findMatch(i, this_thread)\n",
    "            break\n",
    "            \n",
    "    return this_thread"
   ]
  },
  {
   "cell_type": "markdown",
   "metadata": {},
   "source": [
    "Get all possible threads in compounds.json"
   ]
  },
  {
   "cell_type": "code",
   "execution_count": 5,
   "metadata": {},
   "outputs": [],
   "source": [
    "all_threads = []\n",
    "this_thread = []\n",
    "\n",
    "for i in compounds[\"compounds\"]:\n",
    "    final_thread = findMatch(i, this_thread)\n",
    "    \n",
    "    if len(final_thread) != 0:\n",
    "        all_threads.append(final_thread)\n",
    "        \n",
    "    this_thread = []"
   ]
  },
  {
   "cell_type": "markdown",
   "metadata": {},
   "source": [
    "### Matching Threads to Clues\n",
    "\n",
    "1. Set a thread in all_threads to poem_thread\n",
    "2. Take first word in poem_thread\n",
    "3. Try to find match in clue words\n",
    "4. If match, set key (firstWord, secondWord) tuple to clue list"
   ]
  },
  {
   "cell_type": "code",
   "execution_count": 6,
   "metadata": {},
   "outputs": [],
   "source": [
    "poem_threads = []\n",
    "poem_thread = {}\n",
    "\n",
    "for thread in all_threads:\n",
    "    for i in range(len(thread)):\n",
    "        if thread[i][\"firstWord\"] in source.keys():\n",
    "            this_word = (thread[i][\"firstWord\"],thread[i][\"secondWord\"])\n",
    "            poem_thread[this_word] = source[thread[i][\"firstWord\"]]\n",
    "            \n",
    "        else:\n",
    "            break\n",
    "            \n",
    "    poem_threads.append(poem_thread)\n",
    "    poem_thread = {}"
   ]
  },
  {
   "cell_type": "markdown",
   "metadata": {},
   "source": [
    "Clean up poem_threads; delete empty or 1 word threads."
   ]
  },
  {
   "cell_type": "code",
   "execution_count": 12,
   "metadata": {},
   "outputs": [],
   "source": [
    "for i in range(len(poem_threads)):\n",
    "    if len(poem_threads[i]) <= 1:\n",
    "        poem_threads.pop(i)"
   ]
  },
  {
   "cell_type": "markdown",
   "metadata": {},
   "source": [
    "### Get Nouns, Verbs, Adjectives, and Prepositions\n",
    "\n",
    "Gather a dataset of nouns, verbs, adjectives, and prepositions to reference words to in hopes of finding its type."
   ]
  },
  {
   "cell_type": "code",
   "execution_count": 13,
   "metadata": {},
   "outputs": [],
   "source": [
    "nouns_dirty = json.load(open(\"../../corpora/data/words/nouns.json\"))[\"nouns\"] + json.load(open(\"../../corpora/data/words/nouns2.json\"))[\"nouns\"]\n",
    "    \n",
    "verbs_dirty = json.load(open(\"../../corpora/data/words/verbs.json\"))[\"verbs\"]\n",
    "\n",
    "adjs_dirty = json.load(open(\"../../corpora/data/words/adjs.json\"))[\"adjs\"] + json.load(open(\"../../corpora/data/words/adjs2.json\"))[\"adjs\"]\n",
    "    \n",
    "preps = json.load(open(\"../../corpora/data/words/prepositions.json\"))[\"prepositions\"]\n",
    "\n",
    "nouns = sorted(list(set(nouns_dirty)))\n",
    "adjs = sorted(list(set(adjs_dirty)))\n",
    "\n",
    "verbs = []\n",
    "for i in verbs_dirty:\n",
    "    verbs.append(i[\"present\"])"
   ]
  },
  {
   "cell_type": "markdown",
   "metadata": {},
   "source": [
    "- Nouns = \"a/an\"\n",
    "- Verbs = \"to\"\n",
    "- Adjectivess/Prepositionss = \"to be\"\n",
    "- Not Found = \"\""
   ]
  },
  {
   "cell_type": "code",
   "execution_count": 14,
   "metadata": {},
   "outputs": [],
   "source": [
    "def getType(word):    \n",
    "    if word in adjs or word in preps:\n",
    "        return \"to be\"\n",
    "    \n",
    "    elif word in verbs:\n",
    "        return \"to\"\n",
    "    \n",
    "    elif word in nouns:\n",
    "        return \"a\"\n",
    "        \n",
    "    else:\n",
    "        return \"\""
   ]
  },
  {
   "cell_type": "markdown",
   "metadata": {},
   "source": [
    "### Put it All Together!\n",
    "\n",
    "Take a random poem thread, get types, and print it out."
   ]
  },
  {
   "cell_type": "code",
   "execution_count": 44,
   "metadata": {},
   "outputs": [
    {
     "name": "stdout",
     "output_type": "stream",
     "text": [
      "A birth\n",
      "    is a blessed event,\n",
      "           but a birthright is\n",
      "to be right\n",
      "    is to be privelege,\n",
      "          but to be rightwing is\n",
      "to be wing?\n"
     ]
    }
   ],
   "source": [
    "poem_thread = random.choice(poem_threads)\n",
    "\n",
    "last_phrase = \"\"\n",
    "last_word = \"\"\n",
    "first = True\n",
    "\n",
    "for key,value in poem_thread.items():\n",
    "    rules = {\n",
    "        \"body_first\": \"#phrase.capitalize# #word#\\n    is #phrase# #clue#,\\n#numSpace#but #phrase# #compound# is\",\n",
    "        \"body_noun_first\": \"#word.a.capitalize#\\n    is #clue.a#,\\n#numSpace#but #compound.a# is\",\n",
    "        \n",
    "        \"body\": \"#phrase# #word#\\n    is #phrase# #clue#,\\n#numSpace#but #phrase# #compound# is\",\n",
    "        \"body_noun\": \"#word.a#\\n    is #clue.a#,\\n#numSpace#but #compound.a# is\",\n",
    "\n",
    "        \"phrase\": getType(key[0]),\n",
    "        \"word\": key[0],\n",
    "        \"clue\": value,\n",
    "        \"numSpace\": \" \"*(len(\"#clue#\") + len(key[1])),\n",
    "        \"compound\": key[0] + key[1]\n",
    "    }\n",
    "\n",
    "    grammar = tracery.Grammar(rules)\n",
    "    grammar.add_modifiers(base_english)\n",
    "    \n",
    "    if first and getType(key[0]) == \"a\":\n",
    "        print(grammar.flatten(\"#body_noun_first#\"))\n",
    "        first = False\n",
    "        \n",
    "    elif first:\n",
    "        print(grammar.flatten(\"#body_first#\"))\n",
    "        first = False\n",
    "        \n",
    "    elif getType(key[0]) == \"a\":\n",
    "        print(grammar.flatten(\"#body_noun#\"))\n",
    "        \n",
    "    else:\n",
    "        print(grammar.flatten(\"#body#\"))\n",
    "    \n",
    "    last_phrase = getType(key[0])\n",
    "    last_word = key[1]\n",
    "\n",
    "\n",
    "last_line_rules = {\n",
    "    \"last\": \"#phrase# #word#?\",\n",
    "    \"last_noun\": \"#word.a#?\",\n",
    "    \"phrase\": last_phrase,\n",
    "    \"word\": last_word\n",
    "}\n",
    "grammar = tracery.Grammar(last_line_rules)\n",
    "grammar.add_modifiers(base_english)\n",
    "\n",
    "if last_phrase == \"a\":\n",
    "    print(grammar.flatten(\"#last_noun#\"))\n",
    "\n",
    "else:\n",
    "    print(grammar.flatten(\"#last#\"))"
   ]
  },
  {
   "cell_type": "markdown",
   "metadata": {},
   "source": [
    "### Some Other Outputs"
   ]
  },
  {
   "cell_type": "markdown",
   "metadata": {},
   "source": [
    "```\n",
    "A door\n",
    "    is a portal,\n",
    "          but a doorstop is\n",
    "to stop\n",
    "    is to finish,\n",
    "         but to stopgap is\n",
    "to gap?\n",
    "```"
   ]
  },
  {
   "cell_type": "markdown",
   "metadata": {},
   "source": [
    "```\n",
    "to milk\n",
    "    is to take advantage of,\n",
    "           but to milkshake is\n",
    "a shake\n",
    "    is an ice cream treat,\n",
    "          but a shakedown is\n",
    "to be down\n",
    "    is to be not up,\n",
    "          but to be downbeat is\n",
    "to be beat?\n",
    "```"
   ]
  },
  {
   "cell_type": "markdown",
   "metadata": {},
   "source": [
    "```\n",
    "A wrist\n",
    "    is a watch place,\n",
    "           but a wristwatch is\n",
    "to watch\n",
    "    is to wristpiece,\n",
    "          but to watchband is\n",
    "a band\n",
    "    is a wedding symbol,\n",
    "           but a bandwagon is\n",
    "a wagon?\n",
    "```"
   ]
  },
  {
   "cell_type": "markdown",
   "metadata": {},
   "source": [
    "```\n",
    "To be free\n",
    "    is to be let loose,\n",
    "          but to be freehold is\n",
    "a hold\n",
    "    is a maintain,\n",
    "        but a holdup is\n",
    "an up?\n",
    "```"
   ]
  },
  {
   "cell_type": "markdown",
   "metadata": {},
   "source": [
    "```\n",
    "To be dead\n",
    "    is to be lifeless,\n",
    "          but to be deadwood is\n",
    "a wood\n",
    "    is a furniture material,\n",
    "            but a woodcarver is\n",
    "a carver?\n",
    "```"
   ]
  },
  {
   "cell_type": "markdown",
   "metadata": {},
   "source": [
    "```\n",
    "To rain\n",
    "    is to falling drops,\n",
    "          but to raindrop is\n",
    "to drop\n",
    "    is to bit of rain,\n",
    "         but to dropout is\n",
    "an out?\n",
    "```"
   ]
  },
  {
   "cell_type": "markdown",
   "metadata": {},
   "source": [
    "```\n",
    "To love\n",
    "    is to fuzzy feeling,\n",
    "          but to lovesick is\n",
    "to be sick\n",
    "    is to be ailing,\n",
    "         but to be sickbay is\n",
    "a bay?\n",
    "```"
   ]
  },
  {
   "cell_type": "markdown",
   "metadata": {},
   "source": [
    "```\n",
    "To be over\n",
    "    is to be done with,\n",
    "          but to be overhang is\n",
    "to hang\n",
    "    is to droop,\n",
    "         but to hangdog is\n",
    "a dog?\n",
    "```"
   ]
  },
  {
   "cell_type": "markdown",
   "metadata": {},
   "source": [
    "```\n",
    "To be under\n",
    "    is to be hypnotized,\n",
    "          but to be underfoot is\n",
    "a foot\n",
    "    is a toe holder,\n",
    "          but a football is\n",
    "a ball\n",
    "    is a formal dance,\n",
    "          but a ballpark is\n",
    "to park\n",
    "    is to public garden,\n",
    "         but to parkway is\n",
    "a way?\n",
    "```"
   ]
  }
 ],
 "metadata": {
  "kernelspec": {
   "display_name": "Python 3",
   "language": "python",
   "name": "python3"
  },
  "language_info": {
   "codemirror_mode": {
    "name": "ipython",
    "version": 3
   },
   "file_extension": ".py",
   "mimetype": "text/x-python",
   "name": "python",
   "nbconvert_exporter": "python",
   "pygments_lexer": "ipython3",
   "version": "3.6.7"
  }
 },
 "nbformat": 4,
 "nbformat_minor": 2
}
